{
  "cells": [
    {
      "cell_type": "markdown",
      "metadata": {
        "id": "view-in-github",
        "colab_type": "text"
      },
      "source": [
        "<a href=\"https://colab.research.google.com/github/Ale2611/Python/blob/Gr%C3%A1ficos/Diagrama%20de%20cajas.ipynb\" target=\"_parent\"><img src=\"https://colab.research.google.com/assets/colab-badge.svg\" alt=\"Open In Colab\"/></a>"
      ]
    },
    {
      "cell_type": "code",
      "execution_count": 1,
      "metadata": {
        "id": "nXDTpLkoxjbB",
        "outputId": "ae70fafa-bd1e-4a57-e214-86b86356d79b",
        "colab": {
          "base_uri": "https://localhost:8080/",
          "height": 430
        }
      },
      "outputs": [
        {
          "output_type": "display_data",
          "data": {
            "text/plain": [
              "<Figure size 640x480 with 1 Axes>"
            ],
            "image/png": "[encoded data removed]"
          },
          "metadata": {}
        }
      ],
      "source": [
        "import numpy as np\n",
        "import matplotlib.pyplot as plt\n",
        "\n",
        "# Semilla para reproducibilidad\n",
        "np.random.seed(5)\n",
        "\n",
        "# Simulación de datos\n",
        "x = np.random.normal(0, 1, 200)\n",
        "\n",
        "# Gráfico\n",
        "fig, ax = plt.subplots()\n",
        "ax.boxplot(x)\n",
        "plt.show()"
      ]
    },
    {
      "cell_type": "code",
      "execution_count": null,
      "metadata": {
        "id": "KDw92zcjxjbG"
      },
      "outputs": [],
      "source": [
        "# Box plot horizontal\n",
        "fig, ax = plt.subplots()\n",
        "ax.boxplot(x, vert = False)\n",
        "plt.show()\n",
        "\n",
        "# MAS EJEMPLOS: https://python-charts.com/es/distribucion/box-plot-matplotlib/"
      ]
    }
  ],
  "metadata": {
    "kernelspec": {
      "display_name": "Python 3",
      "language": "python",
      "name": "python3"
    },
    "language_info": {
      "codemirror_mode": {
        "name": "ipython",
        "version": 3
      },
      "file_extension": ".py",
      "mimetype": "text/x-python",
      "name": "python",
      "nbconvert_exporter": "python",
      "pygments_lexer": "ipython3",
      "version": "3.11.9"
    },
    "colab": {
      "provenance": [],
      "include_colab_link": true
    }
  },
  "nbformat": 4,
  "nbformat_minor": 0
}